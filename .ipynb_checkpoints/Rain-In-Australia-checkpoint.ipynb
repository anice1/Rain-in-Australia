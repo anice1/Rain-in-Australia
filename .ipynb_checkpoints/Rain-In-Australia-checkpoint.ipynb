{
 "cells": [
  {
   "cell_type": "markdown",
   "id": "intense-harvest",
   "metadata": {},
   "source": [
    "# Content\n",
    "\n",
    "This dataset contains about 10 years of daily weather observations from many locations across Australia.\n",
    "\n",
    "RainTomorrow is the target variable to predict. It means -- did it rain the next day, Yes or No? This column is Yes if the rain for that day was 1mm or more."
   ]
  },
  {
   "cell_type": "code",
   "execution_count": null,
   "id": "further-heath",
   "metadata": {},
   "outputs": [],
   "source": [
    "import pandas as pd\n",
    "import numpy as np"
   ]
  },
  {
   "cell_type": "code",
   "execution_count": null,
   "id": "occasional-stupid",
   "metadata": {},
   "outputs": [],
   "source": [
    "raindf = pd.read_csv('weatherAUS/weatherAUS.csv', date_parser=['Date'])\n",
    "raindf.head()"
   ]
  },
  {
   "cell_type": "code",
   "execution_count": null,
   "id": "understanding-storm",
   "metadata": {},
   "outputs": [],
   "source": [
    "raindf.isna().sum(), raindf.info()"
   ]
  },
  {
   "cell_type": "markdown",
   "id": "removable-girlfriend",
   "metadata": {},
   "source": [
    "# Fill missing values"
   ]
  },
  {
   "cell_type": "code",
   "execution_count": null,
   "id": "chemical-honey",
   "metadata": {},
   "outputs": [],
   "source": [
    "raindf['MinTemp'].fillna(raindf['MinTemp'].mean(),inplace=True)\n",
    "raindf['MaxTemp'].fillna(raindf['MaxTemp'].mean(),inplace=True)\n",
    "raindf['Rainfall'].fillna(raindf['Rainfall'].mean(),inplace=True)\n",
    "raindf['Evaporation'].fillna(raindf['Evaporation'].mean(),inplace=True)\n",
    "raindf['Sunshine'].fillna(raindf['Sunshine'].mean(),inplace=True)\n",
    "raindf['WindGustSpeed'].fillna(raindf['WindGustSpeed'].mean(), inplace=True)\n",
    "raindf['WindSpeed9am'].fillna(raindf['WindSpeed9am'].mean(), inplace=True)\n",
    "raindf['WindSpeed3pm'].fillna(raindf['WindSpeed3pm'].mean(), inplace=True)\n",
    "raindf['WindDir9am'].fillna('N', inplace=True)\n",
    "raindf['Humidity3pm'].fillna(raindf['Humidity3pm'].mean(), inplace=True)\n",
    "raindf['Humidity9am'].fillna(raindf['Humidity9am'].mean(), inplace=True)\n",
    "raindf['Pressure3pm'].fillna(raindf['Pressure3pm'].mean(), inplace=True)\n",
    "raindf['Pressure9am'].fillna(raindf['Pressure9am'].mean(), inplace=True)\n",
    "raindf['Cloud3pm'].fillna(raindf['Cloud3pm'].mean(), inplace=True)\n",
    "raindf['Temp3pm'].fillna(raindf['Temp3pm'].mean(), inplace=True)\n",
    "raindf['Temp9am'].fillna(raindf['Temp9am'].mean(), inplace=True)\n",
    "raindf.dropna(inplace=True)"
   ]
  },
  {
   "cell_type": "markdown",
   "id": "international-driver",
   "metadata": {},
   "source": [
    "# Split data into features and label"
   ]
  },
  {
   "cell_type": "code",
   "execution_count": null,
   "id": "illegal-chest",
   "metadata": {},
   "outputs": [],
   "source": [
    "# Split the data into features and label\n",
    "X = raindf.drop('RainTomorrow',axis=1)\n",
    "y = raindf['RainTomorrow']\n",
    "\n",
    "# Find my categorical features\n",
    "categorical_features = ['Date','Location','WindGustDir','WindDir9am','WindDir3pm','RainToday']"
   ]
  },
  {
   "cell_type": "markdown",
   "id": "accepting-australian",
   "metadata": {},
   "source": [
    "# Encode and Tranform data"
   ]
  },
  {
   "cell_type": "code",
   "execution_count": null,
   "id": "active-member",
   "metadata": {},
   "outputs": [],
   "source": [
    "from sklearn.preprocessing import OneHotEncoder\n",
    "from sklearn.compose import ColumnTransformer\n",
    "\n",
    "one_hot = OneHotEncoder()\n",
    "transformer = ColumnTransformer([('one_hot',one_hot,categorical_features)], remainder='passthrough')\n",
    "transformed_X = transformer.fit_transform(X)\n",
    "transformed_X\n",
    "\n",
    "\n",
    "from sklearn.model_selection import train_test_split\n",
    "X_train, X_test, y_train, y_test = train_test_split(transformed_X, y, test_size=0.2)"
   ]
  },
  {
   "cell_type": "markdown",
   "id": "false-extent",
   "metadata": {},
   "source": [
    "# Choose an estimator"
   ]
  },
  {
   "cell_type": "code",
   "execution_count": null,
   "id": "applicable-arcade",
   "metadata": {},
   "outputs": [],
   "source": [
    "from sklearn.ensemble import RandomForestClassifier\n",
    "model = RandomForestClassifier()"
   ]
  },
  {
   "cell_type": "markdown",
   "id": "deadly-lease",
   "metadata": {},
   "source": [
    "# Fit the model"
   ]
  },
  {
   "cell_type": "code",
   "execution_count": null,
   "id": "lined-commitment",
   "metadata": {},
   "outputs": [],
   "source": [
    "model.fit(X_train,y_train)\n",
    "model.score(X_test, y_test)"
   ]
  }
 ],
 "metadata": {
  "kernelspec": {
   "display_name": "Python 3",
   "language": "python",
   "name": "python3"
  },
  "language_info": {
   "codemirror_mode": {
    "name": "ipython",
    "version": 3
   },
   "file_extension": ".py",
   "mimetype": "text/x-python",
   "name": "python",
   "nbconvert_exporter": "python",
   "pygments_lexer": "ipython3",
   "version": "3.8.8"
  }
 },
 "nbformat": 4,
 "nbformat_minor": 5
}
